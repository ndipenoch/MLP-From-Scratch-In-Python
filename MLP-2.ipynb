{
  "nbformat": 4,
  "nbformat_minor": 0,
  "metadata": {
    "colab": {
      "name": "MLP.ipynb",
      "provenance": [],
      "collapsed_sections": []
    },
    "kernelspec": {
      "display_name": "Python 3",
      "language": "python",
      "name": "python3"
    },
    "language_info": {
      "codemirror_mode": {
        "name": "ipython",
        "version": 3
      },
      "file_extension": ".py",
      "mimetype": "text/x-python",
      "name": "python",
      "nbconvert_exporter": "python",
      "pygments_lexer": "ipython3",
      "version": "3.8.6"
    }
  },
  "cells": [
    {
      "cell_type": "code",
      "metadata": {
        "id": "Maf4C0o7ao4y"
      },
      "source": [
        "import numpy as np\n",
        "import math\n",
        "import pandas as pd\n",
        "from sklearn.model_selection import train_test_split\n",
        "\n",
        "import statistics\n",
        "import sklearn.utils\n",
        "from sklearn.model_selection import train_test_split\n",
        "import matplotlib.pyplot as plt\n",
        "from numpy.random import seed\n",
        "from numpy.random import randint\n",
        "import math\n",
        "from sklearn import metrics\n",
        "%matplotlib inline"
      ],
      "execution_count": null,
      "outputs": []
    },
    {
      "cell_type": "markdown",
      "metadata": {
        "id": "vC-xMkHSA_hR"
      },
      "source": [
        "## <h2><center>Creat a MLP Neural Network</center></h2> "
      ]
    },
    {
      "cell_type": "code",
      "metadata": {
        "id": "wisS02KtA_hS"
      },
      "source": [
        "def sigmoid(x):\n",
        "    return 1 / (1 + np.exp(-x))\n",
        "\n",
        "class MLP_1:\n",
        "    \n",
        "    def __init__(self,weights_hidden_output, weights_input_hidden,epochs,lr):\n",
        "        self.weights_hidden_output = weights_hidden_output\n",
        "        self.weights_input_hidden = weights_input_hidden\n",
        "        self.epochs = epochs\n",
        "        self.lr = lr\n",
        "\n",
        "    def train(self,X,y):\n",
        "        epoch_List = []\n",
        "        losses_List = []\n",
        "        for epoch in range(self.epochs):\n",
        "            ## Forward Propogation\n",
        "\n",
        "            #calculating hidden layer activations\n",
        "            hiddenLayer_linearTransform = np.dot(weights_input_hidden.T, X)\n",
        "            hiddenLayer_activations = sigmoid(hiddenLayer_linearTransform)\n",
        "\n",
        "            #calculating the output\n",
        "            outputLayer_linearTransform = np.dot(\n",
        "                weights_hidden_output.T, hiddenLayer_activations\n",
        "            )\n",
        "            output = sigmoid(outputLayer_linearTransform)\n",
        "\n",
        "            ## Backward Propagation\n",
        "            #calculating error\n",
        "            error = np.square(y - output) / 2\n",
        "\n",
        "            #calculating rate of change of error w.r.t weight between hidden and output layer\n",
        "            error_wrt_output = -(y - output)\n",
        "            output_wrt_outputLayer_LinearTransform = np.multiply(output, (1 - output))\n",
        "            outputLayer_LinearTransform_wrt_weights_hidden_output = hiddenLayer_activations\n",
        "\n",
        "            error_wrt_weights_hidden_output = np.dot(\n",
        "                outputLayer_LinearTransform_wrt_weights_hidden_output,\n",
        "                (error_wrt_output * output_wrt_outputLayer_LinearTransform).T,\n",
        "            )\n",
        "\n",
        "            #calculating rate of change of error w.r.t weights between input and hidden layer\n",
        "            outputLayer_LinearTransform_wrt_hiddenLayer_activations = weights_hidden_output\n",
        "            hiddenLayer_activations_wrt_hiddenLayer_linearTransform = np.multiply(\n",
        "                hiddenLayer_activations, (1 - hiddenLayer_activations)\n",
        "            )\n",
        "            hiddenLayer_linearTransform_wrt_weights_input_hidden = X\n",
        "            error_wrt_weights_input_hidden = np.dot(\n",
        "                hiddenLayer_linearTransform_wrt_weights_input_hidden,\n",
        "                (\n",
        "                    hiddenLayer_activations_wrt_hiddenLayer_linearTransform\n",
        "                    * np.dot(\n",
        "                        outputLayer_LinearTransform_wrt_hiddenLayer_activations,\n",
        "                       (output_wrt_outputLayer_LinearTransform * error_wrt_output),\n",
        "                   )\n",
        "                ).T,\n",
        "            )\n",
        "\n",
        "            #updating the weights\n",
        "            self.weights_hidden_output += - (lr * error_wrt_weights_hidden_output)\n",
        "            self.weights_input_hidden  +=  - (lr * error_wrt_weights_input_hidden)\n",
        "    \n",
        "\n",
        "            #print error at every 200th epoch\n",
        "            epoch_loss = np.average(error)\n",
        "            if epoch % 200 == 0:\n",
        "                print(f\"Error at epoch {epoch} is {epoch_loss:.5f}\")\n",
        "\n",
        "            #appending the error of each epoch\n",
        "            losses_List.append(epoch_loss)\n",
        "            epoch_List.append(epoch)\n",
        "    \n",
        "        return epoch_List,losses_List\n",
        "    \n",
        "    def predict(self,X_test):\n",
        "        hidden_input = X_test.dot(self.weights_input_hidden)\n",
        "        hidden_output = sigmoid(hidden_input)\n",
        "        output_layer_input = hidden_output.dot(self.weights_hidden_output)\n",
        "        y_pred = sigmoid(output_layer_input);\n",
        "        return y_pred\n",
        "        "
      ],
      "execution_count": null,
      "outputs": []
    },
    {
      "cell_type": "markdown",
      "metadata": {
        "id": "IsHVwL_eao40"
      },
      "source": [
        "## <h2><center>MLP With XOR dataset</center></h2>"
      ]
    },
    {
      "cell_type": "code",
      "metadata": {
        "id": "PcfQIBEOao41"
      },
      "source": [
        "#Load trainin data\n",
        "dataset = pd.read_csv('./sample_data/XOR.csv')\n",
        "y= dataset.pop('Output').values\n",
        "X = dataset.values\n",
        "\n",
        "np.random.seed(42)\n",
        "\n",
        "X = X.T\n",
        "y = y.T"
      ],
      "execution_count": null,
      "outputs": []
    },
    {
      "cell_type": "code",
      "metadata": {
        "id": "QgM3PFYFao41"
      },
      "source": [
        "#Defining the model architecture\n",
        "inputLayer_neurons = 2 # X.shape[0]  number of features in data set\n",
        "hiddenLayer_neurons = 3  # number of hidden layers neurons\n",
        "outputLayer_neurons = 1 #y.shape[0]  number of neurons at output layer\n",
        "\n",
        "# initializing weight\n",
        "weights_input_hidden = np.random.uniform(size=(inputLayer_neurons, hiddenLayer_neurons))\n",
        "weights_hidden_output = np.random.uniform(\n",
        "    size=(hiddenLayer_neurons, outputLayer_neurons)\n",
        ")\n",
        "\n",
        "\n",
        "# defining the parameters\n",
        "lr = 0.1\n",
        "epochs = 6000"
      ],
      "execution_count": null,
      "outputs": []
    },
    {
      "cell_type": "code",
      "metadata": {
        "id": "URA8au8-A_hT"
      },
      "source": [
        "#Creat a model\n",
        "nn = MLP_1(weights_hidden_output, weights_input_hidden,epochs,lr)"
      ],
      "execution_count": null,
      "outputs": []
    },
    {
      "cell_type": "code",
      "metadata": {
        "colab": {
          "base_uri": "https://localhost:8080/"
        },
        "id": "viLs7_vjA_hU",
        "outputId": "d0ea28bf-0f60-49c2-c02e-84dc82885e31"
      },
      "source": [
        "#Train the model\n",
        "xor_error,xor_losses=nn.train(X,y)"
      ],
      "execution_count": null,
      "outputs": [
        {
          "output_type": "stream",
          "text": [
            "Error at epoch 0 is 0.14892\n",
            "Error at epoch 200 is 0.12508\n",
            "Error at epoch 400 is 0.12501\n",
            "Error at epoch 600 is 0.12494\n",
            "Error at epoch 800 is 0.12486\n",
            "Error at epoch 1000 is 0.12476\n",
            "Error at epoch 1200 is 0.12462\n",
            "Error at epoch 1400 is 0.12441\n",
            "Error at epoch 1600 is 0.12407\n",
            "Error at epoch 1800 is 0.12350\n",
            "Error at epoch 2000 is 0.12253\n",
            "Error at epoch 2200 is 0.12092\n",
            "Error at epoch 2400 is 0.11840\n",
            "Error at epoch 2600 is 0.11485\n",
            "Error at epoch 2800 is 0.11035\n",
            "Error at epoch 3000 is 0.10516\n",
            "Error at epoch 3200 is 0.09958\n",
            "Error at epoch 3400 is 0.09374\n",
            "Error at epoch 3600 is 0.08760\n",
            "Error at epoch 3800 is 0.08088\n",
            "Error at epoch 4000 is 0.07306\n",
            "Error at epoch 4200 is 0.06375\n",
            "Error at epoch 4400 is 0.05343\n",
            "Error at epoch 4600 is 0.04349\n",
            "Error at epoch 4800 is 0.03516\n",
            "Error at epoch 5000 is 0.02872\n",
            "Error at epoch 5200 is 0.02389\n",
            "Error at epoch 5400 is 0.02026\n",
            "Error at epoch 5600 is 0.01749\n",
            "Error at epoch 5800 is 0.01534\n"
          ],
          "name": "stdout"
        }
      ]
    },
    {
      "cell_type": "code",
      "metadata": {
        "colab": {
          "base_uri": "https://localhost:8080/",
          "height": 295
        },
        "id": "kl8EBPaEA_hU",
        "outputId": "d8cc858b-01e2-4c10-9b1f-92a8619b2844"
      },
      "source": [
        "#Display a Graph of the Error Loss Vs The Epochs For The XOR Data set\n",
        "plt.plot(xor_error,xor_losses )\n",
        "plt.title('Loss Error Vs Epoch')\n",
        "plt.xlabel('Epoch')\n",
        "plt.ylabel('Error')\n",
        "plt.show()"
      ],
      "execution_count": null,
      "outputs": [
        {
          "output_type": "display_data",
          "data": {
            "image/png": "[encoded data removed]",
            "text/plain": [
              "<Figure size 432x288 with 1 Axes>"
            ]
          },
          "metadata": {
            "tags": [],
            "needs_background": "light"
          }
        }
      ]
    },
    {
      "cell_type": "code",
      "metadata": {
        "id": "mjdi_VG0A_hV"
      },
      "source": [
        "#Load XOR test data\n",
        "dataset = pd.read_csv('./sample_data/XOR.csv')\n",
        "y= dataset.pop('Output').values\n",
        "X_test = dataset.values"
      ],
      "execution_count": null,
      "outputs": []
    },
    {
      "cell_type": "code",
      "metadata": {
        "id": "cOrsEYSXA_hV"
      },
      "source": [
        "#Make prediction on the XOR test data set\n",
        "y_pred_1 = nn.predict(X_test)"
      ],
      "execution_count": null,
      "outputs": []
    },
    {
      "cell_type": "code",
      "metadata": {
        "colab": {
          "base_uri": "https://localhost:8080/"
        },
        "id": "847fWASEA_hV",
        "outputId": "433dbc1f-e03d-4249-8916-43013a2012bf"
      },
      "source": [
        "#Print the accuracy\n",
        "pred_list = []\n",
        "for r in y_pred_1:\n",
        "     pred_list.append((sum(r)/len(r)))\n",
        "#print(pred_list)\n",
        "final_pred = [round(pred_list) for pred_list in pred_list]\n",
        "accuracy = np.sum(y == final_pred, axis=0) / len(y)\n",
        "print(y)\n",
        "print(final_pred)\n",
        "print (\"Accuracy:\", accuracy*100)"
      ],
      "execution_count": null,
      "outputs": [
        {
          "output_type": "stream",
          "text": [
            "[0 1 0 1]\n",
            "[0, 1, 0, 1]\n",
            "Accuracy: 100.0\n"
          ],
          "name": "stdout"
        }
      ]
    },
    {
      "cell_type": "code",
      "metadata": {
        "colab": {
          "base_uri": "https://localhost:8080/"
        },
        "id": "N9YcXXXOA_hV",
        "outputId": "101d5723-3453-4593-904a-434cf0ab400e"
      },
      "source": [
        "#Print the perfomance Matrix\n",
        "print(metrics.classification_report(y, final_pred))"
      ],
      "execution_count": null,
      "outputs": [
        {
          "output_type": "stream",
          "text": [
            "              precision    recall  f1-score   support\n",
            "\n",
            "           0       1.00      1.00      1.00         2\n",
            "           1       1.00      1.00      1.00         2\n",
            "\n",
            "    accuracy                           1.00         4\n",
            "   macro avg       1.00      1.00      1.00         4\n",
            "weighted avg       1.00      1.00      1.00         4\n",
            "\n"
          ],
          "name": "stdout"
        }
      ]
    },
    {
      "cell_type": "markdown",
      "metadata": {
        "id": "S6LQDcuBao45"
      },
      "source": [
        "# <h2><center>MLP With random generated values for Sine dataset</center></h2>"
      ]
    },
    {
      "cell_type": "code",
      "metadata": {
        "id": "H8ZRxEyeao46"
      },
      "source": [
        "#Create a dataset\n",
        "seed(1)\n",
        "sin_test_numRow =500\n",
        "#data Frame columns/features\n",
        "input_1 = []\n",
        "input_2 = []\n",
        "input_3 = []\n",
        "input_4 = []\n",
        "labels = []\n",
        "for i in range(sin_test_numRow):\n",
        "    randList= randint(-1, 1, 4)\n",
        "    total = randList[0]-randList[1]+randList[2]-randList[3]\n",
        "    #output = round(math.sin(total))\n",
        "    output = math.sin(total)\n",
        "    input_1.append(randList[0])\n",
        "    input_2.append(randList[1])\n",
        "    input_3.append(randList[2])\n",
        "    input_4.append(randList[3])\n",
        "    labels.append(output)\n",
        "#Create a dataframe and print the df to see what the raw df looks like.\n",
        "d = {'input_1': input_1, 'input_2': input_2,'input_3': input_3, 'input_4': input_4,'labels': labels}\n",
        "df = pd.DataFrame(data=d)\n",
        "df\n",
        "#Save the df as a CSV\n",
        "df.to_csv('random.csv',  index=False)"
      ],
      "execution_count": null,
      "outputs": []
    },
    {
      "cell_type": "code",
      "metadata": {
        "id": "IinOkE5nao46"
      },
      "source": [
        "#Load the data\n",
        "dataset = pd.read_csv('./sample_data/random.csv')\n",
        "y = dataset.pop('labels').values\n",
        "X = dataset.values\n",
        "\n",
        "uniqueLables = list(set(y))\n",
        "\n",
        "# shuffle and split training and test sets\n",
        "X_train, X_test, y_train, y_test = train_test_split(X, y, test_size=0.2,random_state=0)"
      ],
      "execution_count": null,
      "outputs": []
    },
    {
      "cell_type": "code",
      "metadata": {
        "id": "6XxR9ElZao46"
      },
      "source": [
        "np.random.seed(42)\n",
        "X_train_T = X_train.T\n",
        "y_train_T = y_train.T"
      ],
      "execution_count": null,
      "outputs": []
    },
    {
      "cell_type": "code",
      "metadata": {
        "id": "TR4OqFhzao47"
      },
      "source": [
        "#Defining the model architecture\n",
        "inputLayer_neurons = 4 #X_train_t.shape[0]  # number of features in data set\n",
        "hiddenLayer_neurons = 8  # number of hidden layers neurons\n",
        "outputLayer_neurons = 1 #y_train_t.shape[0]  # number of neurons at output layer\n",
        "\n",
        "# initializing weight\n",
        "weights_input_hidden = np.random.uniform(size=(inputLayer_neurons, hiddenLayer_neurons))\n",
        "weights_hidden_output = np.random.uniform(\n",
        "    size=(hiddenLayer_neurons, outputLayer_neurons)\n",
        ")\n",
        "\n",
        "# defining the parameters\n",
        "lr = 0.02\n",
        "epochs = 3000"
      ],
      "execution_count": null,
      "outputs": []
    },
    {
      "cell_type": "code",
      "metadata": {
        "id": "Qt2z61SpA_hX"
      },
      "source": [
        "#Creat a model\n",
        "nn = MLP_1(weights_hidden_output, weights_input_hidden,epochs,lr)"
      ],
      "execution_count": null,
      "outputs": []
    },
    {
      "cell_type": "code",
      "metadata": {
        "colab": {
          "base_uri": "https://localhost:8080/"
        },
        "id": "m_KSt_TXA_hX",
        "outputId": "75282a53-2345-4bae-9db4-c74aa90bc3f0"
      },
      "source": [
        "#Train the model\n",
        "sine_error,sine_losses=nn.train(X_train_T,y_train_T)"
      ],
      "execution_count": null,
      "outputs": [
        {
          "output_type": "stream",
          "text": [
            "Error at epoch 0 is 0.51344\n",
            "Error at epoch 200 is 0.11305\n",
            "Error at epoch 400 is 0.11273\n",
            "Error at epoch 600 is 0.11265\n",
            "Error at epoch 800 is 0.11262\n",
            "Error at epoch 1000 is 0.11260\n",
            "Error at epoch 1200 is 0.11259\n",
            "Error at epoch 1400 is 0.11258\n",
            "Error at epoch 1600 is 0.11257\n",
            "Error at epoch 1800 is 0.11257\n",
            "Error at epoch 2000 is 0.11256\n",
            "Error at epoch 2200 is 0.11256\n",
            "Error at epoch 2400 is 0.11256\n",
            "Error at epoch 2600 is 0.11255\n",
            "Error at epoch 2800 is 0.11255\n"
          ],
          "name": "stdout"
        }
      ]
    },
    {
      "cell_type": "code",
      "metadata": {
        "colab": {
          "base_uri": "https://localhost:8080/",
          "height": 295
        },
        "id": "__OKUpOUA_hX",
        "outputId": "46135d8d-a960-42de-a2af-0222bd9d7683"
      },
      "source": [
        "plt.plot(sine_error,sine_losses )\n",
        "plt.title('Loss Error Vs Epoch')\n",
        "plt.xlabel('Epoch')\n",
        "plt.ylabel('Error')\n",
        "plt.show()"
      ],
      "execution_count": null,
      "outputs": [
        {
          "output_type": "display_data",
          "data": {
            "image/png": "[encoded data removed]",
            "text/plain": [
              "<Figure size 432x288 with 1 Axes>"
            ]
          },
          "metadata": {
            "tags": [],
            "needs_background": "light"
          }
        }
      ]
    },
    {
      "cell_type": "code",
      "metadata": {
        "id": "gBZOREKSA_hX"
      },
      "source": [
        "#Make prediction on the Sine test data set\n",
        "y_pred = nn.predict(X_test)"
      ],
      "execution_count": null,
      "outputs": []
    },
    {
      "cell_type": "code",
      "metadata": {
        "colab": {
          "base_uri": "https://localhost:8080/"
        },
        "id": "B7SWWUq5A_hX",
        "outputId": "19cadcae-9756-4495-82c4-e54640c2f83c"
      },
      "source": [
        "#Print the accuracy\n",
        "pred_list = []\n",
        "for r in y_pred:\n",
        "     pred_list.append((sum(r)/len(r)))\n",
        "#print(pred_list)\n",
        "final_pred = [round(pred_list) for pred_list in pred_list]\n",
        "accuracy = np.sum(y_test == final_pred, axis=0) / len(y_test)\n",
        "print (\"Accuracy:\", accuracy*100)"
      ],
      "execution_count": null,
      "outputs": [
        {
          "output_type": "stream",
          "text": [
            "Accuracy: 39.0\n"
          ],
          "name": "stdout"
        }
      ]
    },
    {
      "cell_type": "markdown",
      "metadata": {
        "id": "6_E9Cslmao48"
      },
      "source": [
        "### <h1><center>MLP with Letter Recognition Dataset</center></h1>"
      ]
    },
    {
      "cell_type": "code",
      "metadata": {
        "id": "6vR1qsJ9ao49"
      },
      "source": [
        "#Adapted from https://github.com/cuongphamduc/Letter-Recognition-Using-Multi-layer-Perceptron/blob/master/MLP.py\n",
        "epochList = []\n",
        "lossList = []\n",
        "\n",
        "def to_one_hot(vector, dimension=26):\n",
        "    res = np.zeros((len(vector), dimension))\n",
        "\n",
        "    for index, value in enumerate(vector):\n",
        "        res[index, ord(value) - ord('A')] = 1.\n",
        "\n",
        "    return res\n",
        "\n",
        "\n",
        "def softmax(arr):\n",
        "    arr_e = np.exp(arr - np.max(arr, axis=0, keepdims=True))\n",
        "    res = arr_e / arr_e.sum(axis=0)\n",
        "\n",
        "    return res\n",
        "\n",
        "\n",
        "def cross_entropy_loss(y, y_pre):\n",
        "    return -np.sum(y * np.log(y_pre)) / y.shape[1]\n",
        "\n",
        "\n",
        "class MLP:\n",
        "    def __init__(self, d0, d1, d2, learning_rate, batch_size, num_epochs):\n",
        "        self.W1 = 0.01 * np.random.randn(d0, d1)\n",
        "        # W1 = (16, 100)\n",
        "        self.b1 = np.zeros((d1, 1))\n",
        "        # b1 = (100, 1)\n",
        "        self.W2 = 0.01 * np.random.randn(d1, d2)\n",
        "        # W2 = (100, 26)\n",
        "        self.b2 = np.zeros((d2, 1))\n",
        "        # b2 = (26, 1)\n",
        "        self.learning_rate = learning_rate\n",
        "        self.batch_size = batch_size\n",
        "        self.num_epochs = num_epochs\n",
        "\n",
        "    def fit(self, X, y):\n",
        "        N = X.shape[1]\n",
        "        loss = []\n",
        "\n",
        "        for epoch in range(self.num_epochs):\n",
        "                tmp = []\n",
        "                X = X.T\n",
        "                # X = (16000, 16)\n",
        "                y = y.T\n",
        "                # y = (16000, 16)\n",
        "        \n",
        "\n",
        "                X, y = sklearn.utils.shuffle(X, y)\n",
        "\n",
        "                X = X.T\n",
        "                # X = (16, 16000)\n",
        "                y = y.T\n",
        "                # y = (26, 16000)\n",
        "\n",
        "                for j in range(0, N, self.batch_size):\n",
        "                    # Pick a mini-batch\n",
        "                    X_batch = X[:, j: j + self.batch_size]\n",
        "                    # X_batch = (16, 50)\n",
        "                    y_batch = y[:, j: j + self.batch_size]\n",
        "                    # y_batch = (26, 50)\n",
        "\n",
        "                    # Feedforward\n",
        "                    Z1 = np.dot(self.W1.T, X_batch) + self.b1\n",
        "                    # Z1 = (100, 16) x (16, 50) + (100, 1) = (100, 50)\n",
        "                    A1 = np.maximum(Z1, 0)\n",
        "                    # A1 = (100, 50)\n",
        "                    Z2 = np.dot(self.W2.T, A1) + self.b2\n",
        "                    # Z2 = (26, 100) x (100, 50) + (26, 1) = (26, 50)\n",
        "                    y_predict = softmax(Z2)\n",
        "                    # y_predict = (26, 50)\n",
        "\n",
        "                    tmp.append(cross_entropy_loss(y_batch, y_predict))\n",
        "\n",
        "                    # Backpropagation\n",
        "                    E2 = (y_predict - y_batch) / N\n",
        "                    # E2 = (26, 50)\n",
        "                    dW2 = np.dot(A1, E2.T)\n",
        "                    # dW2 = (100, 50) x (50, 26) = (100, 26)\n",
        "                    db2 = np.sum(E2, axis=1, keepdims=True)\n",
        "                    # db2 = (26, 1)\n",
        "                    E1 = np.dot(self.W2, E2)\n",
        "                    # E1 = (100, 26) x (26, 50) = (100, 50)\n",
        "                    E1[Z1 <= 0] = 0\n",
        "                    # E1 = (100, 50)\n",
        "                    dW1 = np.dot(X_batch, E1.T)\n",
        "                    # dW1 = (16, 50) x (50, 100) = (16, 100)\n",
        "                    db1 = np.sum(E1, axis=1, keepdims=True)\n",
        "                    # db1 = (100, 1)\n",
        "\n",
        "                    # Mini-batch gradient descent update\n",
        "                    self.W1 += -self.learning_rate * dW1\n",
        "                    # W1 = (16, 100)\n",
        "                    self.b1 += -self.learning_rate * db1\n",
        "                    # b1 = (100, 1)\n",
        "                    self.W2 += -self.learning_rate * dW2\n",
        "                    # W2 = (100, 26)\n",
        "                    self.b2 += -self.learning_rate * db2\n",
        "                    # b2 = (26, 1)\n",
        "\n",
        "                loss.append(statistics.mean(tmp))\n",
        "                epochList.append(epoch)\n",
        "                lossList.append(loss[-1])\n",
        "                if epoch % 100 == 0: \n",
        "                    print('Epoch %d, loss = %f' % (epoch + 1, loss[-1]))\n",
        "\n",
        "\n",
        "    def predict(self, X):\n",
        "        Z1 = np.dot(self.W1.T, X) + self.b1\n",
        "        # Z1 = (100, 16) x (16, 4000) + (100, 1) = (100, 4000)\n",
        "        A1 = np.maximum(Z1, 0)\n",
        "        # A1 = (100, 4000)\n",
        "        Z2 = np.dot(self.W2.T, A1) + self.b2\n",
        "        # Z2 = (26, 100) x (100, 4000) + (26, 1) = (26, 4000)\n",
        "\n",
        "        return np.argmax(Z2, axis=0)  # = (4000,)"
      ],
      "execution_count": null,
      "outputs": []
    },
    {
      "cell_type": "code",
      "metadata": {
        "id": "Fhljec1Xao49"
      },
      "source": [
        "#Load Data\n",
        "df = pd.read_csv('./sample_data/letter-recognition.csv', header=None)\n",
        "\n",
        "label = df[0]\n",
        "# label = (20000,)\n",
        "feature = df.drop(0, axis=1)\n",
        "# feature = (20000, 16)\n",
        "\n",
        "X_train, X_test, y_train, y_test = train_test_split(feature, label, test_size=0.2, random_state=97)\n",
        "# X_train = (16000, 16), X_test  = (4000, 16),\n",
        "# y_train = (16000,), y_test = (4000,)\n",
        "X_train = np.asarray(X_train).T\n",
        "# X = (16, 16000)\n",
        "y_train = to_one_hot(y_train).T\n",
        "  # y =(26, 16000)"
      ],
      "execution_count": null,
      "outputs": []
    },
    {
      "cell_type": "code",
      "metadata": {
        "colab": {
          "base_uri": "https://localhost:8080/"
        },
        "id": "XtDL_WHlao49",
        "outputId": "cd5c21c4-9a69-4822-c956-c592f1e3fa3e"
      },
      "source": [
        "#Train Model\n",
        "model = MLP(d0=16, d1=100, d2=26, learning_rate=1, batch_size=50, num_epochs=2000)\n",
        "\n",
        "#Fit the model\n",
        "model.fit(X_train, y_train)"
      ],
      "execution_count": null,
      "outputs": [
        {
          "output_type": "stream",
          "text": [
            "Epoch 1, loss = 3.252983\n",
            "Epoch 101, loss = 0.751200\n",
            "Epoch 201, loss = 0.529970\n",
            "Epoch 301, loss = 0.401264\n",
            "Epoch 401, loss = 0.322742\n",
            "Epoch 501, loss = 0.272257\n",
            "Epoch 601, loss = 0.236685\n",
            "Epoch 701, loss = 0.211564\n",
            "Epoch 801, loss = 0.191551\n",
            "Epoch 901, loss = 0.175707\n",
            "Epoch 1001, loss = 0.161891\n",
            "Epoch 1101, loss = 0.149753\n",
            "Epoch 1201, loss = 0.140082\n",
            "Epoch 1301, loss = 0.130290\n",
            "Epoch 1401, loss = 0.123298\n",
            "Epoch 1501, loss = 0.116601\n",
            "Epoch 1601, loss = 0.109846\n",
            "Epoch 1701, loss = 0.104586\n",
            "Epoch 1801, loss = 0.099365\n",
            "Epoch 1901, loss = 0.095095\n"
          ],
          "name": "stdout"
        }
      ]
    },
    {
      "cell_type": "markdown",
      "metadata": {
        "id": "K7y5vC_zao4-"
      },
      "source": [
        "### Display a Graph of the Error Loss Vs The Epochs For The Letter Recognition Data set"
      ]
    },
    {
      "cell_type": "code",
      "metadata": {
        "colab": {
          "base_uri": "https://localhost:8080/",
          "height": 295
        },
        "id": "qtufqPicao4-",
        "outputId": "12ed2692-d75a-4f5f-c23a-206abd215ec8"
      },
      "source": [
        "plt.plot(epochList,lossList )\n",
        "plt.title('Loss Error Vs Epoch')\n",
        "plt.xlabel('Epoch')\n",
        "plt.ylabel('Error')\n",
        "plt.show()"
      ],
      "execution_count": null,
      "outputs": [
        {
          "output_type": "display_data",
          "data": {
            "image/png": "[encoded data removed]",
            "text/plain": [
              "<Figure size 432x288 with 1 Axes>"
            ]
          },
          "metadata": {
            "tags": [],
            "needs_background": "light"
          }
        }
      ]
    },
    {
      "cell_type": "code",
      "metadata": {
        "id": "8X-j-sv5ao4-"
      },
      "source": [
        "X_test = np.asarray(X_test).T\n",
        "# X_test = (16, 4000)\n",
        "predict = model.predict(X_test)\n",
        "# predict = (4000,)\n",
        "\n",
        "y_test = np.asarray(y_test)\n",
        "# y_test = (4000,)"
      ],
      "execution_count": null,
      "outputs": []
    },
    {
      "cell_type": "code",
      "metadata": {
        "colab": {
          "base_uri": "https://localhost:8080/"
        },
        "id": "xTMcHS28ao4-",
        "outputId": "e0fe9f6d-6eb9-432b-922e-aaff512a3eca"
      },
      "source": [
        "#Print the accuracy\n",
        "for ind, val in enumerate(y_test):\n",
        "        y_test[ind] = ord(val) - ord('A')\n",
        "\n",
        "print('Accuracy score: %.2f' % (np.mean(predict == y_test)))"
      ],
      "execution_count": null,
      "outputs": [
        {
          "output_type": "stream",
          "text": [
            "Accuracy score: 0.95\n"
          ],
          "name": "stdout"
        }
      ]
    },
    {
      "cell_type": "markdown",
      "metadata": {
        "id": "sQYVOkmfeAJ6"
      },
      "source": [
        "Display Matrix Performance of the Model"
      ]
    },
    {
      "cell_type": "code",
      "metadata": {
        "colab": {
          "base_uri": "https://localhost:8080/"
        },
        "id": "EHqkUIx0cFcg",
        "outputId": "4e113dbe-b963-4282-f908-7e043fd11d8b"
      },
      "source": [
        "#convert y.test object to an array of int\n",
        "y = y_test.astype(int)\n",
        "print(metrics.classification_report(y, predict))"
      ],
      "execution_count": null,
      "outputs": [
        {
          "output_type": "stream",
          "text": [
            "              precision    recall  f1-score   support\n",
            "\n",
            "           0       0.96      0.99      0.97       150\n",
            "           1       0.94      0.92      0.93       162\n",
            "           2       0.91      0.98      0.95       142\n",
            "           3       0.94      0.92      0.93       156\n",
            "           4       0.88      0.95      0.91       150\n",
            "           5       0.95      0.93      0.94       162\n",
            "           6       0.93      0.88      0.91       159\n",
            "           7       0.83      0.93      0.88       139\n",
            "           8       0.93      0.94      0.93       142\n",
            "           9       0.95      0.93      0.94       158\n",
            "          10       0.93      0.90      0.92       155\n",
            "          11       0.97      0.95      0.96       152\n",
            "          12       0.96      0.96      0.96       172\n",
            "          13       0.98      0.95      0.96       168\n",
            "          14       0.96      1.00      0.98       140\n",
            "          15       0.96      0.94      0.95       167\n",
            "          16       0.95      0.94      0.94       148\n",
            "          17       0.92      0.92      0.92       153\n",
            "          18       0.97      0.97      0.97       145\n",
            "          19       0.96      0.97      0.97       160\n",
            "          20       0.99      0.94      0.96       158\n",
            "          21       0.97      0.95      0.96       148\n",
            "          22       0.96      0.99      0.98       146\n",
            "          23       0.96      0.92      0.94       157\n",
            "          24       0.97      0.96      0.96       164\n",
            "          25       0.94      0.98      0.96       147\n",
            "\n",
            "    accuracy                           0.95      4000\n",
            "   macro avg       0.95      0.95      0.95      4000\n",
            "weighted avg       0.95      0.95      0.95      4000\n",
            "\n"
          ],
          "name": "stdout"
        }
      ]
    },
    {
      "cell_type": "code",
      "metadata": {
        "id": "epxABHmjA_hc"
      },
      "source": [
        ""
      ],
      "execution_count": null,
      "outputs": []
    }
  ]
}